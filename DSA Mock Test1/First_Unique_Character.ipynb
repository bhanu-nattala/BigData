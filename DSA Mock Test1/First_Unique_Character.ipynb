{
  "nbformat": 4,
  "nbformat_minor": 0,
  "metadata": {
    "colab": {
      "provenance": []
    },
    "kernelspec": {
      "name": "python3",
      "display_name": "Python 3"
    },
    "language_info": {
      "name": "python"
    }
  },
  "cells": [
    {
      "cell_type": "markdown",
      "source": [
        "\n",
        "First Unique Character in a String\n",
        "\n",
        "Given a string s, find the first non-repeating character in it and return its index. If it does not exist, return -1.\n",
        "\n",
        "Example 1:\n",
        "Input: s = \"leetcode\"\n",
        "Output: 0\n",
        "\n",
        "Example 2:\n",
        "Input: s = \"loveleetcode\"\n",
        "Output: 2\n",
        "\n",
        "Example 3:\n",
        "Input: s = \"aabb\"\n",
        "Output: -1\n",
        "\n",
        "Constraints:\n",
        "a. 1 <= s.length <= 10^5\n",
        "b. s consists of only lowercase English letters.\n",
        "\n"
      ],
      "metadata": {
        "id": "xYVdN9gcqo6V"
      }
    },
    {
      "cell_type": "code",
      "source": [
        "def firstUniqChar(s):\n",
        "    dic={}\n",
        "    seen=set()\n",
        "    for ind,let in enumerate(s):\n",
        "        if let not in seen:\n",
        "            dic[let]=ind\n",
        "            seen.add(let)\n",
        "        elif let in dic:\n",
        "            del dic[let]\n",
        "    return min(dic.values()) if dic else -1\n",
        "  \n",
        "s = \"loveleetcode\"\n",
        "print(firstUniqChar(s))"
      ],
      "metadata": {
        "colab": {
          "base_uri": "https://localhost:8080/"
        },
        "id": "M_ty6MoNrG2m",
        "outputId": "677f135d-23d2-490b-9061-bca51941953a"
      },
      "execution_count": 6,
      "outputs": [
        {
          "output_type": "stream",
          "name": "stdout",
          "text": [
            "2\n"
          ]
        }
      ]
    }
  ]
}