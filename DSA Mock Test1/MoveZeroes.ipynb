{
  "nbformat": 4,
  "nbformat_minor": 0,
  "metadata": {
    "colab": {
      "provenance": []
    },
    "kernelspec": {
      "name": "python3",
      "display_name": "Python 3"
    },
    "language_info": {
      "name": "python"
    }
  },
  "cells": [
    {
      "cell_type": "markdown",
      "source": [
        "**Move Zeroes**\n",
        "\n",
        "**Given an integer array nums, move all 0's to the end of it while maintaining the relative order of the non-zero elements.**\n",
        "\n",
        "Note that you must do this in-place without making a copy of the array.\n",
        "\n",
        "Example 1:\n",
        "\n",
        "Input: nums = [0,1,0,3,12]\n",
        "\n",
        "Output: [1,3,12,0,0]\n",
        "\n",
        "Example 2:\n",
        "\n",
        "Input: nums = [0]\n",
        "\n",
        "Output: [0]\n",
        "\n",
        "\n",
        "Constraints:\n",
        "\n",
        "a. 1 <= nums.length <= 10^4\n",
        "\n",
        "b. -2^31 <= nums[i] <= 2^31 - 1\n"
      ],
      "metadata": {
        "id": "xYVdN9gcqo6V"
      }
    },
    {
      "cell_type": "code",
      "source": [
        "def moveZeroes(nums):\n",
        "    slow = 0\n",
        "    for fast in range(len(nums)):\n",
        "      if nums[fast] != 0 and nums[slow] == 0:\n",
        "          nums[slow], nums[fast] = nums[fast], nums[slow]\n",
        "\n",
        "      # wait while we find a non-zero element to\n",
        "      # swap with you\n",
        "      if nums[slow] != 0:\n",
        "         slow += 1\n",
        "\n",
        "nums = [0,1,0,3,12]\n",
        "\n",
        "moveZeroes(nums)\n",
        "\n",
        "print(nums)"
      ],
      "metadata": {
        "colab": {
          "base_uri": "https://localhost:8080/"
        },
        "id": "M_ty6MoNrG2m",
        "outputId": "29be4191-5fdd-4f7f-919b-12353568d250"
      },
      "execution_count": 4,
      "outputs": [
        {
          "output_type": "stream",
          "name": "stdout",
          "text": [
            "[1, 3, 12, 0, 0]\n"
          ]
        }
      ]
    }
  ]
}