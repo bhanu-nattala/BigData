{
 "cells": [
  {
   "cell_type": "markdown",
   "metadata": {},
   "source": [
    "**Q1. Given an array of integers nums and an integer target, return indices of the two numbers such that they add up to target.**\n",
    "\n",
    "**You may assume that each input would have exactly one solution, and you may not use the same element twice.**\n",
    "\n",
    "**You can return the answer in any order.**\n",
    "\n",
    "**Example:**\n",
    "**Input: nums = [2,7,11,15], target = 9**\n",
    "**Output= [0,1]**\n",
    "\n",
    "**Explanation: Because nums[0] + nums[1] == 9, we return [0, 1]**\n"
   ]
  },
  {
   "cell_type": "code",
   "execution_count": 2,
   "metadata": {},
   "outputs": [
    {
     "name": "stdout",
     "output_type": "stream",
     "text": [
      "[0, 1]\n"
     ]
    }
   ],
   "source": [
    "def ArrayTwoSum(nums,target):\n",
    "    for i in range(len(nums)):\n",
    "        for j in range(len(nums)):\n",
    "            if(nums[i]+nums[j]==target and nums[i]!=nums[j]):\n",
    "                return [i,j]\n",
    "\n",
    "nums,target=[2,7,11,15],9           \n",
    "print(ArrayTwoSum(nums,target))\n",
    "\n",
    "#Time -O(n*n)\n",
    "#space-O(1)\n",
    "#Time - o(N) Using hashmaps\n",
    "#space->o(1)\n",
    "#time -O(n*logn)- sorting with two pinter approach and using binary search\n",
    "#space->O(1)\n",
    "#time -o(N+X)- Using remainders of the elements less than x\n",
    "#space-o(x)"
   ]
  },
  {
   "cell_type": "markdown",
   "metadata": {},
   "source": [
    "\n",
    "**Q2. Given an integer array nums and an integer val, remove all occurrences of val in nums in-place. The order of the elements may be changed. Then return the number of elements in nums which are not equal to val.**\n",
    "\n",
    "**Consider the number of elements in nums which are not equal to val be k, to get accepted, you need to do the following things:**\n",
    "\n",
    "- Change the array nums such that the first k elements of nums contain the elements which are not equal to val. The remaining elements of nums are not important as well as the size of nums.\n",
    "- Return k.\n",
    "\n",
    "**Example :**\n",
    "**Input: nums = [3,2,2,3], val = 3**\n",
    "**Output: 2, nums = [2,2,_*,_*]**\n",
    "\n",
    "**Explanation: Your function should return k = 2, with the first two elements of nums being 2. It does not matter what you leave beyond the returned k (hence they are underscores)**\n"
   ]
  },
  {
   "cell_type": "code",
   "execution_count": 3,
   "metadata": {},
   "outputs": [
    {
     "name": "stdout",
     "output_type": "stream",
     "text": [
      "2\n"
     ]
    }
   ],
   "source": [
    "def removal_element(nums,val):\n",
    "    count=1\n",
    "    for k in nums:\n",
    "        if(k!=val):\n",
    "            count+=1\n",
    "            return count\n",
    "            \n",
    "            \n",
    "            \n",
    "nums, val =[3,2,2,3], 3         \n",
    "print(removal_element(nums,val))"
   ]
  },
  {
   "cell_type": "markdown",
   "metadata": {},
   "source": [
    " **Q3. Given a sorted array of distinct integers and a target value, return the index if the target is found. If not, return the index where it would be if it were inserted in order.**\n",
    "\n",
    "**You must write an algorithm with O(log n) runtime complexity.**\n",
    "\n",
    "**Example 1:**\n",
    "**Input: nums = [1,3,5,6], target = 5**\n",
    "\n",
    "**Output: 2**\n"
   ]
  },
  {
   "cell_type": "code",
   "execution_count": 6,
   "metadata": {},
   "outputs": [
    {
     "name": "stdout",
     "output_type": "stream",
     "text": [
      "2\n"
     ]
    }
   ],
   "source": [
    "#using Binary search   \n",
    "def Target_index(arr, low, high, x):\n",
    "    if high >= low:\n",
    "        mid = (high + low) // 2\n",
    "        if arr[mid] == x:\n",
    "            return mid\n",
    "        elif arr[mid] > x:\n",
    "            return Target_index(arr, low, mid - 1, x)\n",
    "        else:\n",
    "            return Target_index(arr, mid + 1, high, x)\n",
    " \n",
    "    else:\n",
    "        return -1\n",
    " \n",
    "\n",
    "nums,target = [1,3,5,6],  5\n",
    "result = Target_index(nums, 0, len(nums)-1, target)\n",
    "print(result)\n",
    "\n",
    "#Time-O(log n)\n",
    "#space-o(1)"
   ]
  },
  {
   "cell_type": "markdown",
   "metadata": {},
   "source": [
    "**Q4. You are given a large integer represented as an integer array digits, where each digits[i] is the ith digit of the integer. The digits are ordered from most significant to least significant in left-to-right order. The large integer does not contain any leading 0's.**\n",
    "\n",
    "**Increment the large integer by one and return the resulting array of digits.**\n",
    "\n",
    "**Example 1:**\n",
    "Input: digits = [1,2,3]\n",
    "Output: [1,2,4]\n",
    "\n",
    "**Explanation: The array represents the integer 123.**\n",
    "\n",
    "**Incrementing by one gives 123 + 1 = 124.**\n",
    "**Thus, the result should be [1,2,4].**\n"
   ]
  },
  {
   "cell_type": "code",
   "execution_count": 7,
   "metadata": {},
   "outputs": [
    {
     "data": {
      "text/plain": [
       "[1, 2, 4]"
      ]
     },
     "execution_count": 7,
     "metadata": {},
     "output_type": "execute_result"
    }
   ],
   "source": [
    "def PlusOne(digits):\n",
    "    n = len(digits)\n",
    "    for i in range(n - 1, -1, -1):\n",
    "        digits[i] += 1\n",
    "        digits[i] %= 10\n",
    "        if digits[i] != 0:\n",
    "                return digits\n",
    "        return [1] + digits\n",
    "digits=[1,2,3]\n",
    "PlusOne(digits)"
   ]
  },
  {
   "cell_type": "markdown",
   "metadata": {},
   "source": [
    "**Q5. You are given two integer arrays nums1 and nums2, sorted in non-decreasing order, and two integers m and n, representing the number of elements in nums1 and nums2 respectively.**\n",
    "\n",
    "**Merge nums1 and nums2 into a single array sorted in non-decreasing order.**\n",
    "\n",
    "**The final sorted array should not be returned by the function, but instead be stored inside the array nums1. To accommodate this, nums1 has a length of m + n, where the first m elements denote the elements that should be merged, and the last n elements are set to 0 and should be ignored. nums2 has a length of n.**\n",
    "\n",
    "**Example 1:**\n",
    "**Input: nums1 = [1,2,3,0,0,0], m = 3, nums2 = [2,5,6], n = 3**\n",
    "**Output: [1,2,2,3,5,6]**\n",
    "\n",
    "**Explanation: The arrays we are merging are [1,2,3] and [2,5,6].\n",
    "The result of the merge is [1,2,2,3,5,6] with the underlined elements coming from nums1.**\n"
   ]
  },
  {
   "cell_type": "code",
   "execution_count": 8,
   "metadata": {},
   "outputs": [
    {
     "data": {
      "text/plain": [
       "[1, 2, 2, 3, 5, 6]"
      ]
     },
     "execution_count": 8,
     "metadata": {},
     "output_type": "execute_result"
    }
   ],
   "source": [
    "def mergeasc(nums1,nums2,m,n):\n",
    "    k= m + n - 1\n",
    "    i, j = m - 1, n - 1\n",
    "    while j >= 0:\n",
    "        if i >= 0 and nums1[i] > nums2[j]:\n",
    "            nums1[k] = nums1[i]\n",
    "            i -= 1\n",
    "        else:\n",
    "            nums1[k] = nums2[j]\n",
    "            j -= 1\n",
    "            k -= 1\n",
    "    return sorted(nums1)\n",
    "\n",
    "\n",
    "nums1 = [1,2,3,0,0,0]\n",
    "m = 3\n",
    "nums2 = [2,5,6]\n",
    "n = 3\n",
    "mergeasc(nums1,nums2,m,n)"
   ]
  },
  {
   "cell_type": "markdown",
   "metadata": {},
   "source": [
    "**Q6. Given an integer array nums, return true if any value appears at least twice in the array, and return false if every element is distinct.**\n",
    "\n",
    "**Example 1:**\n",
    "**Input: nums = [1,2,3,1]**\n",
    "\n",
    "**Output: true**"
   ]
  },
  {
   "cell_type": "code",
   "execution_count": 12,
   "metadata": {},
   "outputs": [
    {
     "name": "stdout",
     "output_type": "stream",
     "text": [
      "True\n"
     ]
    }
   ],
   "source": [
    "def ValueTwice(nums):\n",
    "    freq = {}\n",
    "    for i in nums:\n",
    "        if (i in freq):\n",
    "            freq[i] += 1\n",
    "        else:\n",
    "            freq[i] = 1\n",
    " \n",
    "    for key, value in freq.items():\n",
    "        if(value>=2):\n",
    "            return True\n",
    "        return False\n",
    "        \n",
    "    \n",
    "nums=[1,2,3,1]\n",
    "print(ValueTwice(nums))"
   ]
  },
  {
   "cell_type": "markdown",
   "metadata": {},
   "source": [
    "**Q7. Given an integer array nums, move all 0's to the end of it while maintaining the relative order of the nonzero elements.**\n",
    "\n",
    "**Note that you must do this in-place without making a copy of the array.**\n",
    "\n",
    "**Example 1:**\n",
    "**Input: nums = [0,1,0,3,12]**\n",
    "**Output: [1,3,12,0,0]**"
   ]
  },
  {
   "cell_type": "code",
   "execution_count": 10,
   "metadata": {},
   "outputs": [
    {
     "name": "stdout",
     "output_type": "stream",
     "text": [
      "[1, 3, 12, 0, 0]\n"
     ]
    }
   ],
   "source": [
    "def movezero(nums):\n",
    "    for i in nums:\n",
    "        count=nums.count(i)\n",
    "        nums.sort(reverse=True)\n",
    "        return sorted(nums[:len(nums)-count])+ nums[len(nums)-count:]\n",
    "nums = [0,1,0,3,12]\n",
    "print(movezero(nums))"
   ]
  },
  {
   "cell_type": "markdown",
   "metadata": {},
   "source": [
    "**Q8. You have a set of integers s, which originally contains all the numbers from 1 to n. Unfortunately, due to some error, one of the numbers in s got duplicated to another number in the set, which results in repetition of one number and loss of another number.**\n",
    "\n",
    "**You are given an integer array nums representing the data status of this set after the error.**\n",
    "\n",
    "**Find the number that occurs twice and the number that is missing and return them in the form of an array.**\n",
    "\n",
    "**Example 1:**\n",
    "**Input: nums = [1,2,2,4]\n",
    "Output: [2,3]**\n",
    "\n"
   ]
  },
  {
   "cell_type": "code",
   "execution_count": 13,
   "metadata": {},
   "outputs": [
    {
     "name": "stdout",
     "output_type": "stream",
     "text": [
      "[2, 3]\n"
     ]
    }
   ],
   "source": [
    "def find(nums):\n",
    "    numbers = [-1 for i in range(len(nums)+1)]\n",
    "    output = []\n",
    "    for num in nums:\n",
    "        if numbers[num] == -1:\n",
    "            numbers[num] = num\n",
    "        else:\n",
    "            output.append(num)\n",
    "    for i in range(1,len(numbers)):\n",
    "        if numbers[i] == -1:\n",
    "            output.append(i)\n",
    "    return output\n",
    "nums = [1,2,2,4]\n",
    "print(find(nums))\n",
    "            "
   ]
  },
  {
   "cell_type": "code",
   "execution_count": null,
   "metadata": {},
   "outputs": [],
   "source": []
  }
 ],
 "metadata": {
  "kernelspec": {
   "display_name": "Python 3",
   "language": "python",
   "name": "python3"
  },
  "language_info": {
   "codemirror_mode": {
    "name": "ipython",
    "version": 3
   },
   "file_extension": ".py",
   "mimetype": "text/x-python",
   "name": "python",
   "nbconvert_exporter": "python",
   "pygments_lexer": "ipython3",
   "version": "3.8.5"
  }
 },
 "nbformat": 4,
 "nbformat_minor": 5
}
